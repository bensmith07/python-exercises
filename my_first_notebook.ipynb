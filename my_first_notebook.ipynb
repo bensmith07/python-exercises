{
 "cells": [
  {
   "cell_type": "markdown",
   "id": "59ba0879",
   "metadata": {},
   "source": [
    "# Test out the jupyter notebook environment"
   ]
  },
  {
   "cell_type": "markdown",
   "id": "866544a7",
   "metadata": {},
   "source": [
    "### execute at least 3 python cells:"
   ]
  },
  {
   "cell_type": "code",
   "execution_count": 1,
   "id": "2351755c",
   "metadata": {},
   "outputs": [
    {
     "name": "stdout",
     "output_type": "stream",
     "text": [
      "\n",
      "The total movie rental price is $ 45.0\n"
     ]
    }
   ],
   "source": [
    "price_per_day = 3.00\n",
    "days_rented_TheLittleMermaid = 3\n",
    "days_rented_BrotherBear = 5\n",
    "days_rented_Hercules = 1\n",
    "\n",
    "total_price = (price_per_day \n",
    "              * days_rented_TheLittleMermaid \n",
    "              * days_rented_BrotherBear \n",
    "              * days_rented_Hercules)\n",
    "\n",
    "print()\n",
    "print('The total movie rental price is $', total_price)"
   ]
  },
  {
   "cell_type": "code",
   "execution_count": 2,
   "id": "a7932639",
   "metadata": {},
   "outputs": [
    {
     "name": "stdout",
     "output_type": "stream",
     "text": [
      "\n",
      "The total weekly pay is $ 7420.0 .\n"
     ]
    }
   ],
   "source": [
    "hourly_rate_Google = 400.0\n",
    "hourly_rate_Amazon = 380.0\n",
    "hourly_rate_Facebook = 350.0\n",
    "\n",
    "hours_worked_Google  = 6\n",
    "hours_worked_Amazon = 4\n",
    "hours_worked_Facebook = 10\n",
    "\n",
    "total_pay = (hourly_rate_Google * hours_worked_Google\n",
    "            + hourly_rate_Amazon * hours_worked_Amazon\n",
    "            + hourly_rate_Facebook * hours_worked_Facebook)\n",
    "\n",
    "print()\n",
    "print('The total weekly pay is $', total_pay, '.')"
   ]
  },
  {
   "cell_type": "code",
   "execution_count": 3,
   "id": "7bb3e602",
   "metadata": {},
   "outputs": [
    {
     "name": "stdout",
     "output_type": "stream",
     "text": [
      "\n",
      "Enrollment successful.\n"
     ]
    }
   ],
   "source": [
    "def enroll():\n",
    "    pass\n",
    "\n",
    "class_is_full = False\n",
    "class_schedule_conflict = False\n",
    "\n",
    "if class_is_full == False and class_schedule_conflict == False:\n",
    "    enroll()\n",
    "    print()\n",
    "    print('Enrollment successful.')\n",
    "else:\n",
    "    print()\n",
    "    print('Student may not enroll in this class.')"
   ]
  },
  {
   "cell_type": "markdown",
   "id": "ca22e80a",
   "metadata": {},
   "source": [
    "### make some notes that describe 3 keyboard shortcuts for jupyter notebooks:"
   ]
  },
  {
   "cell_type": "markdown",
   "id": "661c0238",
   "metadata": {},
   "source": [
    "`ctrl` + `enter` runs the selected cell"
   ]
  },
  {
   "cell_type": "markdown",
   "id": "afa57189",
   "metadata": {},
   "source": [
    "`cmd` + `shift` + `p` shows the command palette"
   ]
  },
  {
   "cell_type": "markdown",
   "id": "92a28ce3",
   "metadata": {},
   "source": [
    "`h` shows a pop-up window listing out all keyboard shortcuts"
   ]
  }
 ],
 "metadata": {
  "kernelspec": {
   "display_name": "Python 3 (ipykernel)",
   "language": "python",
   "name": "python3"
  },
  "language_info": {
   "codemirror_mode": {
    "name": "ipython",
    "version": 3
   },
   "file_extension": ".py",
   "mimetype": "text/x-python",
   "name": "python",
   "nbconvert_exporter": "python",
   "pygments_lexer": "ipython3",
   "version": "3.9.7"
  }
 },
 "nbformat": 4,
 "nbformat_minor": 5
}
